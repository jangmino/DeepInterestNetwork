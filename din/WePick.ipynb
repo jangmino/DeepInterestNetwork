{
 "cells": [
  {
   "cell_type": "code",
   "execution_count": 1,
   "metadata": {
    "collapsed": true
   },
   "outputs": [],
   "source": [
    "from __future__ import absolute_import\n",
    "from __future__ import division\n",
    "from __future__ import print_function\n",
    "\n",
    "import os\n",
    "import time\n",
    "import pickle\n",
    "import random\n",
    "import numpy as np\n",
    "import sys\n",
    "import glob\n",
    "import pandas as pd"
   ]
  },
  {
   "cell_type": "code",
   "execution_count": 2,
   "metadata": {
    "collapsed": true
   },
   "outputs": [],
   "source": [
    "wepick_data_header = [\n",
    "\"v\", \"u\", \"seq\", \"rgtme\", \"dt\", \"label\", \"av\", \"bq\", \"dn\", \"dot\", \"dv\", \"dvcid\", \"g\", \"lid0\",\n",
    "\"lid1\", \"lid2\", \"s\", \"ci\", \"dgid\", \"ef\", \"ls\", \"pe\", \"po\", \"pot\", \"ps\", \"set\", \"sst\", \"st\",\n",
    "\"ti1\", \"ti2\", \"ti3\", \"ti4\", \"ti5\", \"tn1\", \"tn2\", \"tn3\", \"tn4\", \"tn5\"\n",
    "]"
   ]
  },
  {
   "cell_type": "code",
   "execution_count": 3,
   "metadata": {},
   "outputs": [
    {
     "name": "stderr",
     "output_type": "stream",
     "text": [
      "C:\\Users\\wmp\\Anaconda3\\envs\\tf\\lib\\site-packages\\IPython\\core\\interactiveshell.py:2698: DtypeWarning: Columns (0,2,3,4) have mixed types. Specify dtype option on import or set low_memory=False.\n",
      "  interactivity=interactivity, compiler=compiler, result=result)\n"
     ]
    }
   ],
   "source": [
    "data_dir = r'c:\\Users\\wmp\\TensorFlow\\DIN_tf_eager'\n",
    "dic = {}\n",
    "for fname in glob.glob(os.path.join(data_dir,'*.csv')):\n",
    "    df = pd.read_csv(fname, header=None, names=wepick_data_header)\n",
    "    dic[fname] = df"
   ]
  },
  {
   "cell_type": "code",
   "execution_count": 4,
   "metadata": {
    "collapsed": true
   },
   "outputs": [],
   "source": [
    "x = pd.concat(dic.values(), ignore_index=True)"
   ]
  },
  {
   "cell_type": "code",
   "execution_count": 5,
   "metadata": {
    "collapsed": true
   },
   "outputs": [],
   "source": [
    "x = x[['v','u','seq', 'rgtme','dt', 'label', 'ti1', 'ti2']]"
   ]
  },
  {
   "cell_type": "code",
   "execution_count": 6,
   "metadata": {
    "collapsed": true
   },
   "outputs": [],
   "source": [
    "# There may be NA in ti1, ti2 (배송2.0 관련?)\n",
    "x = x.reset_index(drop=True)\n",
    "x = x.dropna(how='any')"
   ]
  },
  {
   "cell_type": "code",
   "execution_count": 7,
   "metadata": {
    "collapsed": true
   },
   "outputs": [],
   "source": [
    "x['ti1'] = x['ti1'].astype('int64')\n",
    "x['ti2'] = x['ti2'].astype('int64')"
   ]
  },
  {
   "cell_type": "code",
   "execution_count": 8,
   "metadata": {
    "collapsed": true
   },
   "outputs": [],
   "source": [
    "def build_map(df, col_name):\n",
    "  key = sorted(df[col_name].unique().tolist())\n",
    "  m = dict(zip(key, range(len(key))))\n",
    "  df[col_name] = df[col_name].map(lambda x: m[x])\n",
    "  return m, key"
   ]
  },
  {
   "cell_type": "code",
   "execution_count": 9,
   "metadata": {
    "collapsed": true
   },
   "outputs": [],
   "source": [
    "origin_x = x.copy()"
   ]
  },
  {
   "cell_type": "code",
   "execution_count": 10,
   "metadata": {
    "collapsed": true
   },
   "outputs": [],
   "source": [
    "deal_map, deal_key = build_map(x, 'v')"
   ]
  },
  {
   "cell_type": "code",
   "execution_count": 11,
   "metadata": {
    "collapsed": true
   },
   "outputs": [],
   "source": [
    "user_map, user_key = build_map(x, 'u')"
   ]
  },
  {
   "cell_type": "code",
   "execution_count": 12,
   "metadata": {
    "collapsed": true
   },
   "outputs": [],
   "source": [
    "ti1_map, ti1_key = build_map(x, 'ti1')\n",
    "ti2_map, ti2_key = build_map(x, 'ti2')"
   ]
  },
  {
   "cell_type": "code",
   "execution_count": 13,
   "metadata": {
    "collapsed": true
   },
   "outputs": [],
   "source": [
    "x = x.sort_values(['u','rgtme'])\n",
    "x = x.reset_index(drop=True)"
   ]
  },
  {
   "cell_type": "code",
   "execution_count": 14,
   "metadata": {
    "collapsed": true
   },
   "outputs": [],
   "source": [
    "ti1_list = np.array([x['ti1'][i] for i in range(len(deal_map))], dtype=np.int32)\n",
    "ti2_list = np.array([x['ti2'][i] for i in range(len(deal_map))], dtype=np.int32)"
   ]
  },
  {
   "cell_type": "code",
   "execution_count": 15,
   "metadata": {
    "collapsed": true
   },
   "outputs": [],
   "source": [
    "x = x.drop(columns=['ti1', 'ti2', 'dt'])"
   ]
  },
  {
   "cell_type": "code",
   "execution_count": 16,
   "metadata": {
    "collapsed": true
   },
   "outputs": [],
   "source": [
    "pos = x[x['label']==1]\n",
    "neg = x[x['label']==0]"
   ]
  },
  {
   "cell_type": "code",
   "execution_count": 17,
   "metadata": {
    "collapsed": true
   },
   "outputs": [],
   "source": [
    "x = pd.merge(pos, neg, on=['u','rgtme'])"
   ]
  },
  {
   "cell_type": "code",
   "execution_count": 18,
   "metadata": {},
   "outputs": [
    {
     "data": {
      "text/html": [
       "<div>\n",
       "<style scoped>\n",
       "    .dataframe tbody tr th:only-of-type {\n",
       "        vertical-align: middle;\n",
       "    }\n",
       "\n",
       "    .dataframe tbody tr th {\n",
       "        vertical-align: top;\n",
       "    }\n",
       "\n",
       "    .dataframe thead th {\n",
       "        text-align: right;\n",
       "    }\n",
       "</style>\n",
       "<table border=\"1\" class=\"dataframe\">\n",
       "  <thead>\n",
       "    <tr style=\"text-align: right;\">\n",
       "      <th></th>\n",
       "      <th>v_x</th>\n",
       "      <th>u</th>\n",
       "      <th>seq_x</th>\n",
       "      <th>rgtme</th>\n",
       "      <th>label_x</th>\n",
       "      <th>v_y</th>\n",
       "      <th>seq_y</th>\n",
       "      <th>label_y</th>\n",
       "    </tr>\n",
       "  </thead>\n",
       "  <tbody>\n",
       "    <tr>\n",
       "      <th>0</th>\n",
       "      <td>360</td>\n",
       "      <td>0</td>\n",
       "      <td>2</td>\n",
       "      <td>1523423608843</td>\n",
       "      <td>1.0</td>\n",
       "      <td>129</td>\n",
       "      <td>64</td>\n",
       "      <td>0.0</td>\n",
       "    </tr>\n",
       "    <tr>\n",
       "      <th>1</th>\n",
       "      <td>386</td>\n",
       "      <td>0</td>\n",
       "      <td>11</td>\n",
       "      <td>1523424295459</td>\n",
       "      <td>1.0</td>\n",
       "      <td>76</td>\n",
       "      <td>56</td>\n",
       "      <td>0.0</td>\n",
       "    </tr>\n",
       "    <tr>\n",
       "      <th>2</th>\n",
       "      <td>311</td>\n",
       "      <td>0</td>\n",
       "      <td>18</td>\n",
       "      <td>1523424419739</td>\n",
       "      <td>1.0</td>\n",
       "      <td>381</td>\n",
       "      <td>24</td>\n",
       "      <td>0.0</td>\n",
       "    </tr>\n",
       "    <tr>\n",
       "      <th>3</th>\n",
       "      <td>376</td>\n",
       "      <td>0</td>\n",
       "      <td>15</td>\n",
       "      <td>1523431012195</td>\n",
       "      <td>1.0</td>\n",
       "      <td>33</td>\n",
       "      <td>14</td>\n",
       "      <td>0.0</td>\n",
       "    </tr>\n",
       "    <tr>\n",
       "      <th>4</th>\n",
       "      <td>393</td>\n",
       "      <td>0</td>\n",
       "      <td>33</td>\n",
       "      <td>1523432005678</td>\n",
       "      <td>1.0</td>\n",
       "      <td>313</td>\n",
       "      <td>4</td>\n",
       "      <td>0.0</td>\n",
       "    </tr>\n",
       "  </tbody>\n",
       "</table>\n",
       "</div>"
      ],
      "text/plain": [
       "   v_x  u seq_x          rgtme  label_x  v_y seq_y  label_y\n",
       "0  360  0     2  1523423608843      1.0  129    64      0.0\n",
       "1  386  0    11  1523424295459      1.0   76    56      0.0\n",
       "2  311  0    18  1523424419739      1.0  381    24      0.0\n",
       "3  376  0    15  1523431012195      1.0   33    14      0.0\n",
       "4  393  0    33  1523432005678      1.0  313     4      0.0"
      ]
     },
     "execution_count": 18,
     "metadata": {},
     "output_type": "execute_result"
    }
   ],
   "source": [
    "x.head()"
   ]
  },
  {
   "cell_type": "code",
   "execution_count": 19,
   "metadata": {
    "collapsed": true
   },
   "outputs": [],
   "source": [
    "wepick_data = {'data':x, \n",
    "          'deal_map':deal_map, 'deal_key':deal_key,\n",
    "          'user_map':user_map, 'user_key':user_key, \n",
    "          'ti1_map':ti1_map, 'ti1_key':ti1_key,\n",
    "          'ti2_map':ti2_map, 'ti2_key':ti2_key,\n",
    "          'ti1_list':ti1_list,\n",
    "          'ti2_list':ti2_list\n",
    "         }"
   ]
  },
  {
   "cell_type": "code",
   "execution_count": 20,
   "metadata": {
    "collapsed": true
   },
   "outputs": [],
   "source": [
    "with open(os.path.join(data_dir,'wepick_data.pkl'), 'wb') as f:\n",
    "    pickle.dump(wepick_data, f, pickle.HIGHEST_PROTOCOL)\n",
    "    f.close()"
   ]
  },
  {
   "cell_type": "code",
   "execution_count": 21,
   "metadata": {
    "collapsed": true,
    "scrolled": true
   },
   "outputs": [],
   "source": [
    "train_set = []\n",
    "test_set = []\n",
    "for u, hist in x.groupby('u'):\n",
    "    pos = hist['v_x'].tolist()\n",
    "    neg = hist['v_y'].tolist()\n",
    "    for i in range(1, len(pos)):\n",
    "        hist = pos[:i]\n",
    "        if i != len(pos)-1:\n",
    "            train_set.append((u, hist, pos[i], 1))\n",
    "            train_set.append((u, hist, neg[i], 0))\n",
    "        else:\n",
    "            label = (pos[i], neg[i])\n",
    "            test_set.append((u, hist, label))"
   ]
  },
  {
   "cell_type": "code",
   "execution_count": 33,
   "metadata": {},
   "outputs": [],
   "source": [
    "random.seed(1234)"
   ]
  },
  {
   "cell_type": "code",
   "execution_count": 34,
   "metadata": {},
   "outputs": [],
   "source": [
    "random.shuffle(train_set)\n",
    "random.shuffle(test_set)\n"
   ]
  },
  {
   "cell_type": "code",
   "execution_count": 40,
   "metadata": {},
   "outputs": [
    {
     "data": {
      "text/plain": [
       "(924410, 240012)"
      ]
     },
     "execution_count": 40,
     "metadata": {},
     "output_type": "execute_result"
    }
   ],
   "source": [
    "len(train_set), len(test_set)"
   ]
  },
  {
   "cell_type": "code",
   "execution_count": 37,
   "metadata": {},
   "outputs": [],
   "source": [
    "with open(os.path.join(data_dir,'wepick_dataset.pkl'), 'wb') as f:\n",
    "    pickle.dump(train_set,f, pickle.HIGHEST_PROTOCOL)\n",
    "    pickle.dump(test_set,f, pickle.HIGHEST_PROTOCOL)\n",
    "    pickle.dump(ti1_list,f, pickle.HIGHEST_PROTOCOL)\n",
    "    pickle.dump((len(user_map), len(deal_map), len(ti1_map)), f, pickle.HIGHEST_PROTOCOL)\n"
   ]
  },
  {
   "cell_type": "markdown",
   "metadata": {},
   "source": [
    "## logs from training\n",
    "\n",
    "```Epoch 16 DONE\tCost time: 5413.38\n",
    "Epoch 17 Global_step 492000\tTrain_loss: 0.4010\tEval_GAUC: 0.8195\tEval_AUC: 0.8254\n",
    "Epoch 17 Global_step 493000\tTrain_loss: 0.4505\tEval_GAUC: 0.8212\tEval_AUC: 0.8271\n",
    "Epoch 17 Global_step 494000\tTrain_loss: 0.4460\tEval_GAUC: 0.8204\tEval_AUC: 0.8266\n",
    "Epoch 17 Global_step 495000\tTrain_loss: 0.4463\tEval_GAUC: 0.8206\tEval_AUC: 0.8270\n",
    "Epoch 17 Global_step 496000\tTrain_loss: 0.4467\tEval_GAUC: 0.8210\tEval_AUC: 0.8273\n",
    "Epoch 17 Global_step 497000\tTrain_loss: 0.4469\tEval_GAUC: 0.8189\tEval_AUC: 0.8247\n",
    "Epoch 17 Global_step 498000\tTrain_loss: 0.4487\tEval_GAUC: 0.8219\tEval_AUC: 0.8267\n",
    "Epoch 17 Global_step 499000\tTrain_loss: 0.4497\tEval_GAUC: 0.8199\tEval_AUC: 0.8254\n",
    "Epoch 17 Global_step 500000\tTrain_loss: 0.4481\tEval_GAUC: 0.8252\tEval_AUC: 0.8307\n",
    "Epoch 17 Global_step 501000\tTrain_loss: 0.4459\tEval_GAUC: 0.8220\tEval_AUC: 0.8282\n",
    "Epoch 17 Global_step 502000\tTrain_loss: 0.4459\tEval_GAUC: 0.8233\tEval_AUC: 0.8285\n",
    "Epoch 17 Global_step 503000\tTrain_loss: 0.4456\tEval_GAUC: 0.8232\tEval_AUC: 0.8291\n",
    "Epoch 17 Global_step 504000\tTrain_loss: 0.4470\tEval_GAUC: 0.8216\tEval_AUC: 0.8282\n",
    "Epoch 17 Global_step 505000\tTrain_loss: 0.4465\tEval_GAUC: 0.8194\tEval_AUC: 0.8251\n",
    "Epoch 17 Global_step 506000\tTrain_loss: 0.4467\tEval_GAUC: 0.8216\tEval_AUC: 0.8274\n",
    "Epoch 17 Global_step 507000\tTrain_loss: 0.4446\tEval_GAUC: 0.8191\tEval_AUC: 0.8250\n",
    "Epoch 17 Global_step 508000\tTrain_loss: 0.4439\tEval_GAUC: 0.8185\tEval_AUC: 0.8246\n",
    "Epoch 17 Global_step 509000\tTrain_loss: 0.4446\tEval_GAUC: 0.8180\tEval_AUC: 0.8234\n",
    "Epoch 17 Global_step 510000\tTrain_loss: 0.4450\tEval_GAUC: 0.8208\tEval_AUC: 0.8268\n",
    "Epoch 17 Global_step 511000\tTrain_loss: 0.4440\tEval_GAUC: 0.8204\tEval_AUC: 0.8264```"
   ]
  },
  {
   "cell_type": "code",
   "execution_count": 60,
   "metadata": {},
   "outputs": [
    {
     "data": {
      "text/html": [
       "<div>\n",
       "<style scoped>\n",
       "    .dataframe tbody tr th:only-of-type {\n",
       "        vertical-align: middle;\n",
       "    }\n",
       "\n",
       "    .dataframe tbody tr th {\n",
       "        vertical-align: top;\n",
       "    }\n",
       "\n",
       "    .dataframe thead th {\n",
       "        text-align: right;\n",
       "    }\n",
       "</style>\n",
       "<table border=\"1\" class=\"dataframe\">\n",
       "  <thead>\n",
       "    <tr style=\"text-align: right;\">\n",
       "      <th></th>\n",
       "      <th>v_x</th>\n",
       "      <th>u</th>\n",
       "      <th>seq_x</th>\n",
       "      <th>rgtme</th>\n",
       "      <th>label_x</th>\n",
       "      <th>v_y</th>\n",
       "      <th>seq_y</th>\n",
       "      <th>label_y</th>\n",
       "    </tr>\n",
       "  </thead>\n",
       "  <tbody>\n",
       "    <tr>\n",
       "      <th>896407</th>\n",
       "      <td>372</td>\n",
       "      <td>319894</td>\n",
       "      <td>1</td>\n",
       "      <td>1523447596572</td>\n",
       "      <td>1.0</td>\n",
       "      <td>336</td>\n",
       "      <td>44</td>\n",
       "      <td>0.0</td>\n",
       "    </tr>\n",
       "    <tr>\n",
       "      <th>896408</th>\n",
       "      <td>372</td>\n",
       "      <td>319894</td>\n",
       "      <td>1</td>\n",
       "      <td>1523447740829</td>\n",
       "      <td>1.0</td>\n",
       "      <td>354</td>\n",
       "      <td>38</td>\n",
       "      <td>0.0</td>\n",
       "    </tr>\n",
       "    <tr>\n",
       "      <th>896409</th>\n",
       "      <td>313</td>\n",
       "      <td>319894</td>\n",
       "      <td>4</td>\n",
       "      <td>1523447753500</td>\n",
       "      <td>1.0</td>\n",
       "      <td>354</td>\n",
       "      <td>38</td>\n",
       "      <td>0.0</td>\n",
       "    </tr>\n",
       "  </tbody>\n",
       "</table>\n",
       "</div>"
      ],
      "text/plain": [
       "        v_x       u seq_x          rgtme  label_x  v_y seq_y  label_y\n",
       "896407  372  319894     1  1523447596572      1.0  336    44      0.0\n",
       "896408  372  319894     1  1523447740829      1.0  354    38      0.0\n",
       "896409  313  319894     4  1523447753500      1.0  354    38      0.0"
      ]
     },
     "execution_count": 60,
     "metadata": {},
     "output_type": "execute_result"
    }
   ],
   "source": [
    "x[x['u']==319894].sort_values('rgtme')"
   ]
  },
  {
   "cell_type": "code",
   "execution_count": 64,
   "metadata": {},
   "outputs": [
    {
     "data": {
      "text/html": [
       "<div>\n",
       "<style scoped>\n",
       "    .dataframe tbody tr th:only-of-type {\n",
       "        vertical-align: middle;\n",
       "    }\n",
       "\n",
       "    .dataframe tbody tr th {\n",
       "        vertical-align: top;\n",
       "    }\n",
       "\n",
       "    .dataframe thead th {\n",
       "        text-align: right;\n",
       "    }\n",
       "</style>\n",
       "<table border=\"1\" class=\"dataframe\">\n",
       "  <thead>\n",
       "    <tr style=\"text-align: right;\">\n",
       "      <th></th>\n",
       "      <th>v</th>\n",
       "      <th>u</th>\n",
       "      <th>seq</th>\n",
       "      <th>rgtme</th>\n",
       "      <th>dt</th>\n",
       "      <th>label</th>\n",
       "      <th>ti1</th>\n",
       "      <th>ti2</th>\n",
       "    </tr>\n",
       "  </thead>\n",
       "  <tbody>\n",
       "    <tr>\n",
       "      <th>4904456</th>\n",
       "      <td>3525364</td>\n",
       "      <td>17739649</td>\n",
       "      <td>10</td>\n",
       "      <td>1523421973269</td>\n",
       "      <td>2018-04-11 13</td>\n",
       "      <td>1.0</td>\n",
       "      <td>243030109</td>\n",
       "      <td>243030100</td>\n",
       "    </tr>\n",
       "    <tr>\n",
       "      <th>4904457</th>\n",
       "      <td>3525364</td>\n",
       "      <td>17739649</td>\n",
       "      <td>10</td>\n",
       "      <td>1523422520864</td>\n",
       "      <td>2018-04-11 13</td>\n",
       "      <td>1.0</td>\n",
       "      <td>243030109</td>\n",
       "      <td>243030100</td>\n",
       "    </tr>\n",
       "    <tr>\n",
       "      <th>3205176</th>\n",
       "      <td>3527645</td>\n",
       "      <td>17739649</td>\n",
       "      <td>1</td>\n",
       "      <td>1523447596572</td>\n",
       "      <td>2018-04-11 20</td>\n",
       "      <td>1.0</td>\n",
       "      <td>243030109</td>\n",
       "      <td>243030100</td>\n",
       "    </tr>\n",
       "    <tr>\n",
       "      <th>3563165</th>\n",
       "      <td>3522402</td>\n",
       "      <td>17739649</td>\n",
       "      <td>44</td>\n",
       "      <td>1523447596572</td>\n",
       "      <td>2018-04-11 20</td>\n",
       "      <td>0.0</td>\n",
       "      <td>235050109</td>\n",
       "      <td>235050100</td>\n",
       "    </tr>\n",
       "    <tr>\n",
       "      <th>3205175</th>\n",
       "      <td>3527645</td>\n",
       "      <td>17739649</td>\n",
       "      <td>1</td>\n",
       "      <td>1523447740829</td>\n",
       "      <td>2018-04-11 20</td>\n",
       "      <td>1.0</td>\n",
       "      <td>243030109</td>\n",
       "      <td>243030100</td>\n",
       "    </tr>\n",
       "    <tr>\n",
       "      <th>4247512</th>\n",
       "      <td>3525124</td>\n",
       "      <td>17739649</td>\n",
       "      <td>38</td>\n",
       "      <td>1523447740829</td>\n",
       "      <td>2018-04-11 20</td>\n",
       "      <td>0.0</td>\n",
       "      <td>241020104</td>\n",
       "      <td>241020100</td>\n",
       "    </tr>\n",
       "    <tr>\n",
       "      <th>3832669</th>\n",
       "      <td>3521050</td>\n",
       "      <td>17739649</td>\n",
       "      <td>4</td>\n",
       "      <td>1523447753500</td>\n",
       "      <td>2018-04-11 20</td>\n",
       "      <td>1.0</td>\n",
       "      <td>243030103</td>\n",
       "      <td>243030100</td>\n",
       "    </tr>\n",
       "    <tr>\n",
       "      <th>4247513</th>\n",
       "      <td>3525124</td>\n",
       "      <td>17739649</td>\n",
       "      <td>38</td>\n",
       "      <td>1523447753500</td>\n",
       "      <td>2018-04-11 20</td>\n",
       "      <td>0.0</td>\n",
       "      <td>241020104</td>\n",
       "      <td>241020100</td>\n",
       "    </tr>\n",
       "  </tbody>\n",
       "</table>\n",
       "</div>"
      ],
      "text/plain": [
       "               v         u seq          rgtme             dt  label  \\\n",
       "4904456  3525364  17739649  10  1523421973269  2018-04-11 13    1.0   \n",
       "4904457  3525364  17739649  10  1523422520864  2018-04-11 13    1.0   \n",
       "3205176  3527645  17739649   1  1523447596572  2018-04-11 20    1.0   \n",
       "3563165  3522402  17739649  44  1523447596572  2018-04-11 20    0.0   \n",
       "3205175  3527645  17739649   1  1523447740829  2018-04-11 20    1.0   \n",
       "4247512  3525124  17739649  38  1523447740829  2018-04-11 20    0.0   \n",
       "3832669  3521050  17739649   4  1523447753500  2018-04-11 20    1.0   \n",
       "4247513  3525124  17739649  38  1523447753500  2018-04-11 20    0.0   \n",
       "\n",
       "               ti1        ti2  \n",
       "4904456  243030109  243030100  \n",
       "4904457  243030109  243030100  \n",
       "3205176  243030109  243030100  \n",
       "3563165  235050109  235050100  \n",
       "3205175  243030109  243030100  \n",
       "4247512  241020104  241020100  \n",
       "3832669  243030103  243030100  \n",
       "4247513  241020104  241020100  "
      ]
     },
     "execution_count": 64,
     "metadata": {},
     "output_type": "execute_result"
    }
   ],
   "source": [
    "origin_x[origin_x['u']==17739649].sort_values('rgtme')"
   ]
  },
  {
   "cell_type": "code",
   "execution_count": 48,
   "metadata": {},
   "outputs": [
    {
     "data": {
      "text/plain": [
       "array([4, 3, 2, 1])"
      ]
     },
     "execution_count": 48,
     "metadata": {},
     "output_type": "execute_result"
    }
   ],
   "source": [
    "np.fliplr([a])[0]"
   ]
  },
  {
   "cell_type": "code",
   "execution_count": 67,
   "metadata": {},
   "outputs": [
    {
     "data": {
      "text/plain": [
       "3522378"
      ]
     },
     "execution_count": 67,
     "metadata": {},
     "output_type": "execute_result"
    }
   ],
   "source": [
    "deal_key[334]"
   ]
  },
  {
   "cell_type": "code",
   "execution_count": 57,
   "metadata": {},
   "outputs": [
    {
     "data": {
      "text/plain": [
       "{1285223: 0,\n",
       " 1371699: 1,\n",
       " 1432589: 2,\n",
       " 1432649: 3,\n",
       " 1438471: 4,\n",
       " 1468919: 5,\n",
       " 1470891: 6,\n",
       " 1523317: 7,\n",
       " 1534369: 8,\n",
       " 1855957: 9,\n",
       " 1942015: 10,\n",
       " 2040590: 11,\n",
       " 2235951: 12,\n",
       " 2258611: 13,\n",
       " 2271029: 14,\n",
       " 2388501: 15,\n",
       " 2409745: 16,\n",
       " 2539866: 17,\n",
       " 2815821: 18,\n",
       " 2827960: 19,\n",
       " 2828078: 20,\n",
       " 2833857: 21,\n",
       " 2847768: 22,\n",
       " 2991058: 23,\n",
       " 3009333: 24,\n",
       " 3044938: 25,\n",
       " 3061867: 26,\n",
       " 3068897: 27,\n",
       " 3119252: 28,\n",
       " 3119538: 29,\n",
       " 3119665: 30,\n",
       " 3182979: 31,\n",
       " 3198909: 32,\n",
       " 3207879: 33,\n",
       " 3210699: 34,\n",
       " 3238108: 35,\n",
       " 3308451: 36,\n",
       " 3312415: 37,\n",
       " 3320424: 38,\n",
       " 3337685: 39,\n",
       " 3345369: 40,\n",
       " 3346365: 41,\n",
       " 3360824: 42,\n",
       " 3395172: 43,\n",
       " 3407791: 44,\n",
       " 3419534: 45,\n",
       " 3419838: 46,\n",
       " 3424756: 47,\n",
       " 3433098: 48,\n",
       " 3435709: 49,\n",
       " 3435712: 50,\n",
       " 3435713: 51,\n",
       " 3435715: 52,\n",
       " 3449366: 53,\n",
       " 3454797: 54,\n",
       " 3460191: 55,\n",
       " 3461951: 56,\n",
       " 3464089: 57,\n",
       " 3464309: 58,\n",
       " 3466191: 59,\n",
       " 3466341: 60,\n",
       " 3466753: 61,\n",
       " 3471308: 62,\n",
       " 3471409: 63,\n",
       " 3471757: 64,\n",
       " 3472653: 65,\n",
       " 3477356: 66,\n",
       " 3478330: 67,\n",
       " 3478607: 68,\n",
       " 3479353: 69,\n",
       " 3480103: 70,\n",
       " 3480437: 71,\n",
       " 3480553: 72,\n",
       " 3480708: 73,\n",
       " 3483094: 74,\n",
       " 3483310: 75,\n",
       " 3483431: 76,\n",
       " 3483613: 77,\n",
       " 3485494: 78,\n",
       " 3485970: 79,\n",
       " 3486081: 80,\n",
       " 3487612: 81,\n",
       " 3487760: 82,\n",
       " 3488060: 83,\n",
       " 3488771: 84,\n",
       " 3489226: 85,\n",
       " 3490100: 86,\n",
       " 3490150: 87,\n",
       " 3490331: 88,\n",
       " 3490423: 89,\n",
       " 3490880: 90,\n",
       " 3491125: 91,\n",
       " 3491838: 92,\n",
       " 3492063: 93,\n",
       " 3492158: 94,\n",
       " 3493580: 95,\n",
       " 3493583: 96,\n",
       " 3493647: 97,\n",
       " 3494051: 98,\n",
       " 3494358: 99,\n",
       " 3494938: 100,\n",
       " 3495780: 101,\n",
       " 3495953: 102,\n",
       " 3498161: 103,\n",
       " 3498187: 104,\n",
       " 3498269: 105,\n",
       " 3498872: 106,\n",
       " 3499106: 107,\n",
       " 3499139: 108,\n",
       " 3499192: 109,\n",
       " 3499593: 110,\n",
       " 3499711: 111,\n",
       " 3500014: 112,\n",
       " 3500071: 113,\n",
       " 3500355: 114,\n",
       " 3501098: 115,\n",
       " 3501609: 116,\n",
       " 3501642: 117,\n",
       " 3501691: 118,\n",
       " 3501899: 119,\n",
       " 3502679: 120,\n",
       " 3503208: 121,\n",
       " 3503234: 122,\n",
       " 3503294: 123,\n",
       " 3503335: 124,\n",
       " 3503371: 125,\n",
       " 3503845: 126,\n",
       " 3503869: 127,\n",
       " 3503879: 128,\n",
       " 3504137: 129,\n",
       " 3504188: 130,\n",
       " 3504192: 131,\n",
       " 3504379: 132,\n",
       " 3504604: 133,\n",
       " 3504778: 134,\n",
       " 3504800: 135,\n",
       " 3504903: 136,\n",
       " 3504910: 137,\n",
       " 3504972: 138,\n",
       " 3505210: 139,\n",
       " 3505236: 140,\n",
       " 3505291: 141,\n",
       " 3505439: 142,\n",
       " 3505540: 143,\n",
       " 3505555: 144,\n",
       " 3505573: 145,\n",
       " 3505619: 146,\n",
       " 3505675: 147,\n",
       " 3505800: 148,\n",
       " 3506024: 149,\n",
       " 3506162: 150,\n",
       " 3506173: 151,\n",
       " 3506268: 152,\n",
       " 3506272: 153,\n",
       " 3506322: 154,\n",
       " 3506459: 155,\n",
       " 3506530: 156,\n",
       " 3506661: 157,\n",
       " 3506674: 158,\n",
       " 3506706: 159,\n",
       " 3506713: 160,\n",
       " 3506825: 161,\n",
       " 3506893: 162,\n",
       " 3506964: 163,\n",
       " 3507148: 164,\n",
       " 3507179: 165,\n",
       " 3507204: 166,\n",
       " 3507425: 167,\n",
       " 3507452: 168,\n",
       " 3507466: 169,\n",
       " 3507522: 170,\n",
       " 3507588: 171,\n",
       " 3507625: 172,\n",
       " 3507729: 173,\n",
       " 3507760: 174,\n",
       " 3507857: 175,\n",
       " 3507942: 176,\n",
       " 3508149: 177,\n",
       " 3508227: 178,\n",
       " 3508239: 179,\n",
       " 3508255: 180,\n",
       " 3508410: 181,\n",
       " 3508506: 182,\n",
       " 3508544: 183,\n",
       " 3508768: 184,\n",
       " 3508946: 185,\n",
       " 3508976: 186,\n",
       " 3508977: 187,\n",
       " 3509105: 188,\n",
       " 3509137: 189,\n",
       " 3509158: 190,\n",
       " 3509207: 191,\n",
       " 3509271: 192,\n",
       " 3509433: 193,\n",
       " 3509504: 194,\n",
       " 3509649: 195,\n",
       " 3510053: 196,\n",
       " 3510212: 197,\n",
       " 3510215: 198,\n",
       " 3510387: 199,\n",
       " 3510881: 200,\n",
       " 3511172: 201,\n",
       " 3511206: 202,\n",
       " 3511480: 203,\n",
       " 3511692: 204,\n",
       " 3511717: 205,\n",
       " 3511986: 206,\n",
       " 3512009: 207,\n",
       " 3512078: 208,\n",
       " 3512215: 209,\n",
       " 3512292: 210,\n",
       " 3512294: 211,\n",
       " 3512327: 212,\n",
       " 3512421: 213,\n",
       " 3512477: 214,\n",
       " 3512551: 215,\n",
       " 3512593: 216,\n",
       " 3512887: 217,\n",
       " 3512937: 218,\n",
       " 3512948: 219,\n",
       " 3512963: 220,\n",
       " 3513020: 221,\n",
       " 3513027: 222,\n",
       " 3513070: 223,\n",
       " 3513118: 224,\n",
       " 3513125: 225,\n",
       " 3513190: 226,\n",
       " 3513243: 227,\n",
       " 3513253: 228,\n",
       " 3513258: 229,\n",
       " 3513262: 230,\n",
       " 3513276: 231,\n",
       " 3513465: 232,\n",
       " 3513523: 233,\n",
       " 3513533: 234,\n",
       " 3513720: 235,\n",
       " 3513766: 236,\n",
       " 3513787: 237,\n",
       " 3513822: 238,\n",
       " 3513830: 239,\n",
       " 3513863: 240,\n",
       " 3513878: 241,\n",
       " 3513919: 242,\n",
       " 3513973: 243,\n",
       " 3514028: 244,\n",
       " 3514159: 245,\n",
       " 3514233: 246,\n",
       " 3514241: 247,\n",
       " 3514324: 248,\n",
       " 3514331: 249,\n",
       " 3514358: 250,\n",
       " 3514385: 251,\n",
       " 3514389: 252,\n",
       " 3514421: 253,\n",
       " 3514459: 254,\n",
       " 3514512: 255,\n",
       " 3514528: 256,\n",
       " 3514623: 257,\n",
       " 3514733: 258,\n",
       " 3514977: 259,\n",
       " 3515105: 260,\n",
       " 3515239: 261,\n",
       " 3515414: 262,\n",
       " 3515458: 263,\n",
       " 3515512: 264,\n",
       " 3515524: 265,\n",
       " 3515531: 266,\n",
       " 3515612: 267,\n",
       " 3515652: 268,\n",
       " 3515658: 269,\n",
       " 3515664: 270,\n",
       " 3515690: 271,\n",
       " 3515704: 272,\n",
       " 3515712: 273,\n",
       " 3515873: 274,\n",
       " 3515907: 275,\n",
       " 3515930: 276,\n",
       " 3515997: 277,\n",
       " 3516021: 278,\n",
       " 3516127: 279,\n",
       " 3516254: 280,\n",
       " 3516354: 281,\n",
       " 3516557: 282,\n",
       " 3516852: 283,\n",
       " 3516905: 284,\n",
       " 3516938: 285,\n",
       " 3517002: 286,\n",
       " 3517009: 287,\n",
       " 3517960: 288,\n",
       " 3518099: 289,\n",
       " 3518367: 290,\n",
       " 3518451: 291,\n",
       " 3518570: 292,\n",
       " 3518630: 293,\n",
       " 3518662: 294,\n",
       " 3518850: 295,\n",
       " 3518904: 296,\n",
       " 3518911: 297,\n",
       " 3519047: 298,\n",
       " 3519150: 299,\n",
       " 3519199: 300,\n",
       " 3519253: 301,\n",
       " 3519272: 302,\n",
       " 3519307: 303,\n",
       " 3519336: 304,\n",
       " 3519378: 305,\n",
       " 3519493: 306,\n",
       " 3520437: 307,\n",
       " 3520774: 308,\n",
       " 3520942: 309,\n",
       " 3520946: 310,\n",
       " 3520987: 311,\n",
       " 3520992: 312,\n",
       " 3521050: 313,\n",
       " 3521079: 314,\n",
       " 3521090: 315,\n",
       " 3521092: 316,\n",
       " 3521100: 317,\n",
       " 3521251: 318,\n",
       " 3521260: 319,\n",
       " 3521284: 320,\n",
       " 3521412: 321,\n",
       " 3521451: 322,\n",
       " 3521485: 323,\n",
       " 3521487: 324,\n",
       " 3521622: 325,\n",
       " 3521638: 326,\n",
       " 3521699: 327,\n",
       " 3521723: 328,\n",
       " 3521741: 329,\n",
       " 3521785: 330,\n",
       " 3521935: 331,\n",
       " 3522117: 332,\n",
       " 3522268: 333,\n",
       " 3522378: 334,\n",
       " 3522395: 335,\n",
       " 3522402: 336,\n",
       " 3522616: 337,\n",
       " 3522873: 338,\n",
       " 3522990: 339,\n",
       " 3523376: 340,\n",
       " 3523535: 341,\n",
       " 3523891: 342,\n",
       " 3524294: 343,\n",
       " 3524297: 344,\n",
       " 3524338: 345,\n",
       " 3524476: 346,\n",
       " 3524547: 347,\n",
       " 3524613: 348,\n",
       " 3524699: 349,\n",
       " 3524748: 350,\n",
       " 3524754: 351,\n",
       " 3524983: 352,\n",
       " 3525068: 353,\n",
       " 3525124: 354,\n",
       " 3525317: 355,\n",
       " 3525346: 356,\n",
       " 3525364: 357,\n",
       " 3525500: 358,\n",
       " 3525812: 359,\n",
       " 3526222: 360,\n",
       " 3526953: 361,\n",
       " 3526985: 362,\n",
       " 3527053: 363,\n",
       " 3527064: 364,\n",
       " 3527236: 365,\n",
       " 3527240: 366,\n",
       " 3527328: 367,\n",
       " 3527477: 368,\n",
       " 3527569: 369,\n",
       " 3527575: 370,\n",
       " 3527631: 371,\n",
       " 3527645: 372,\n",
       " 3527675: 373,\n",
       " 3527824: 374,\n",
       " 3527861: 375,\n",
       " 3528037: 376,\n",
       " 3528363: 377,\n",
       " 3528550: 378,\n",
       " 3528698: 379,\n",
       " 3528869: 380,\n",
       " 3529131: 381,\n",
       " 3529165: 382,\n",
       " 3529285: 383,\n",
       " 3530825: 384,\n",
       " 3532552: 385,\n",
       " 3532655: 386,\n",
       " 3532677: 387,\n",
       " 3533188: 388,\n",
       " 3535398: 389,\n",
       " 3538332: 390,\n",
       " 3538943: 391,\n",
       " 3539755: 392,\n",
       " 3541064: 393,\n",
       " 3541339: 394,\n",
       " 3544419: 395,\n",
       " 3544562: 396}"
      ]
     },
     "execution_count": 57,
     "metadata": {},
     "output_type": "execute_result"
    }
   ],
   "source": [
    "deal_map"
   ]
  },
  {
   "cell_type": "code",
   "execution_count": null,
   "metadata": {
    "collapsed": true
   },
   "outputs": [],
   "source": [
    "user_map"
   ]
  }
 ],
 "metadata": {
  "kernelspec": {
   "display_name": "Python 3",
   "language": "python",
   "name": "python3"
  },
  "language_info": {
   "codemirror_mode": {
    "name": "ipython",
    "version": 3
   },
   "file_extension": ".py",
   "mimetype": "text/x-python",
   "name": "python",
   "nbconvert_exporter": "python",
   "pygments_lexer": "ipython3",
   "version": "3.5.4"
  }
 },
 "nbformat": 4,
 "nbformat_minor": 2
}
