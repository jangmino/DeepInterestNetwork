{
 "cells": [
  {
   "cell_type": "code",
   "execution_count": 1,
   "metadata": {},
   "outputs": [],
   "source": [
    "from __future__ import absolute_import\n",
    "from __future__ import division\n",
    "from __future__ import print_function\n",
    "\n",
    "import os\n",
    "import time\n",
    "import pickle\n",
    "import random\n",
    "import numpy as np\n",
    "import sys\n",
    "import glob\n",
    "import pandas as pd"
   ]
  },
  {
   "cell_type": "code",
   "execution_count": 2,
   "metadata": {},
   "outputs": [],
   "source": [
    "wepick_data_header = [\n",
    "\"v\", \"u\", \"seq\", \"rgtme\", \"dt\", \"label\", \"av\", \"bq\", \"dn\", \"dot\", \"dv\", \"dvcid\", \"g\", \"lid0\",\n",
    "\"lid1\", \"lid2\", \"s\", \"ci\", \"dgid\", \"ef\", \"ls\", \"pe\", \"po\", \"pot\", \"ps\", \"set\", \"sst\", \"st\",\n",
    "\"ti1\", \"ti2\", \"ti3\", \"ti4\", \"ti5\", \"tn1\", \"tn2\", \"tn3\", \"tn4\", \"tn5\"\n",
    "]"
   ]
  },
  {
   "cell_type": "code",
   "execution_count": 3,
   "metadata": {},
   "outputs": [],
   "source": [
    "data_dir = r'/Users/jangmino/tensorflow/DIN_tf_eager'\n",
    "dic = {}\n",
    "for fname in glob.glob(data_dir + '/*.csv'):\n",
    "    df = pd.read_csv(fname, header=None, names=wepick_data_header)\n",
    "    dic[fname] = df"
   ]
  },
  {
   "cell_type": "code",
   "execution_count": 4,
   "metadata": {},
   "outputs": [],
   "source": [
    "x = pd.concat(dic.values(), ignore_index=True)"
   ]
  },
  {
   "cell_type": "code",
   "execution_count": 5,
   "metadata": {},
   "outputs": [],
   "source": [
    "x = x[['v','u','seq', 'rgtme','dt', 'label', 'ti1', 'ti2']]"
   ]
  },
  {
   "cell_type": "code",
   "execution_count": 6,
   "metadata": {},
   "outputs": [],
   "source": [
    "# There may be NA in ti1, ti2 (배송2.0 관련?)\n",
    "x = x.reset_index(drop=True)\n",
    "x = x.dropna(how='any')"
   ]
  },
  {
   "cell_type": "code",
   "execution_count": 7,
   "metadata": {},
   "outputs": [],
   "source": [
    "x['ti1'] = x['ti1'].astype('int64')\n",
    "x['ti2'] = x['ti2'].astype('int64')"
   ]
  },
  {
   "cell_type": "code",
   "execution_count": 8,
   "metadata": {},
   "outputs": [],
   "source": [
    "def build_map(df, col_name):\n",
    "  key = sorted(df[col_name].unique().tolist())\n",
    "  m = dict(zip(key, range(len(key))))\n",
    "  df[col_name] = df[col_name].map(lambda x: m[x])\n",
    "  return m, key"
   ]
  },
  {
   "cell_type": "code",
   "execution_count": 9,
   "metadata": {},
   "outputs": [],
   "source": [
    "origin_x = x.copy()"
   ]
  },
  {
   "cell_type": "code",
   "execution_count": 10,
   "metadata": {},
   "outputs": [],
   "source": [
    "deal_map, deal_key = build_map(x, 'v')"
   ]
  },
  {
   "cell_type": "code",
   "execution_count": 11,
   "metadata": {},
   "outputs": [],
   "source": [
    "user_map, user_key = build_map(x, 'u')"
   ]
  },
  {
   "cell_type": "code",
   "execution_count": 12,
   "metadata": {},
   "outputs": [],
   "source": [
    "ti1_map, ti1_key = build_map(x, 'ti1')\n",
    "ti2_map, ti2_key = build_map(x, 'ti2')"
   ]
  },
  {
   "cell_type": "code",
   "execution_count": 13,
   "metadata": {},
   "outputs": [],
   "source": [
    "x = x.sort_values(['u','rgtme'])\n",
    "x = x.reset_index(drop=True)"
   ]
  },
  {
   "cell_type": "code",
   "execution_count": 14,
   "metadata": {},
   "outputs": [],
   "source": [
    "ti1_list = np.array([x['ti1'][i] for i in range(len(deal_map))], dtype=np.int32)\n",
    "ti2_list = np.array([x['ti2'][i] for i in range(len(deal_map))], dtype=np.int32)"
   ]
  },
  {
   "cell_type": "code",
   "execution_count": 15,
   "metadata": {},
   "outputs": [],
   "source": [
    "x = x.drop(columns=['ti1', 'ti2', 'dt'])"
   ]
  },
  {
   "cell_type": "code",
   "execution_count": 16,
   "metadata": {},
   "outputs": [],
   "source": [
    "pos = x[x['label']==1]\n",
    "neg = x[x['label']==0]"
   ]
  },
  {
   "cell_type": "code",
   "execution_count": 17,
   "metadata": {},
   "outputs": [],
   "source": [
    "x = pd.merge(pos, neg, on=['u','rgtme'])"
   ]
  },
  {
   "cell_type": "code",
   "execution_count": 18,
   "metadata": {},
   "outputs": [
    {
     "data": {
      "text/html": [
       "<div>\n",
       "<style scoped>\n",
       "    .dataframe tbody tr th:only-of-type {\n",
       "        vertical-align: middle;\n",
       "    }\n",
       "\n",
       "    .dataframe tbody tr th {\n",
       "        vertical-align: top;\n",
       "    }\n",
       "\n",
       "    .dataframe thead th {\n",
       "        text-align: right;\n",
       "    }\n",
       "</style>\n",
       "<table border=\"1\" class=\"dataframe\">\n",
       "  <thead>\n",
       "    <tr style=\"text-align: right;\">\n",
       "      <th></th>\n",
       "      <th>v_x</th>\n",
       "      <th>u</th>\n",
       "      <th>seq_x</th>\n",
       "      <th>rgtme</th>\n",
       "      <th>label_x</th>\n",
       "      <th>v_y</th>\n",
       "      <th>seq_y</th>\n",
       "      <th>label_y</th>\n",
       "    </tr>\n",
       "  </thead>\n",
       "  <tbody>\n",
       "    <tr>\n",
       "      <th>0</th>\n",
       "      <td>360</td>\n",
       "      <td>0</td>\n",
       "      <td>2</td>\n",
       "      <td>1523423608843</td>\n",
       "      <td>1</td>\n",
       "      <td>129</td>\n",
       "      <td>64</td>\n",
       "      <td>0</td>\n",
       "    </tr>\n",
       "    <tr>\n",
       "      <th>1</th>\n",
       "      <td>386</td>\n",
       "      <td>0</td>\n",
       "      <td>11</td>\n",
       "      <td>1523424295459</td>\n",
       "      <td>1</td>\n",
       "      <td>76</td>\n",
       "      <td>56</td>\n",
       "      <td>0</td>\n",
       "    </tr>\n",
       "    <tr>\n",
       "      <th>2</th>\n",
       "      <td>311</td>\n",
       "      <td>0</td>\n",
       "      <td>18</td>\n",
       "      <td>1523424419739</td>\n",
       "      <td>1</td>\n",
       "      <td>381</td>\n",
       "      <td>24</td>\n",
       "      <td>0</td>\n",
       "    </tr>\n",
       "    <tr>\n",
       "      <th>3</th>\n",
       "      <td>376</td>\n",
       "      <td>0</td>\n",
       "      <td>15</td>\n",
       "      <td>1523431012195</td>\n",
       "      <td>1</td>\n",
       "      <td>33</td>\n",
       "      <td>14</td>\n",
       "      <td>0</td>\n",
       "    </tr>\n",
       "    <tr>\n",
       "      <th>4</th>\n",
       "      <td>393</td>\n",
       "      <td>0</td>\n",
       "      <td>33</td>\n",
       "      <td>1523432005678</td>\n",
       "      <td>1</td>\n",
       "      <td>313</td>\n",
       "      <td>4</td>\n",
       "      <td>0</td>\n",
       "    </tr>\n",
       "  </tbody>\n",
       "</table>\n",
       "</div>"
      ],
      "text/plain": [
       "   v_x  u  seq_x          rgtme  label_x  v_y  seq_y  label_y\n",
       "0  360  0      2  1523423608843        1  129     64        0\n",
       "1  386  0     11  1523424295459        1   76     56        0\n",
       "2  311  0     18  1523424419739        1  381     24        0\n",
       "3  376  0     15  1523431012195        1   33     14        0\n",
       "4  393  0     33  1523432005678        1  313      4        0"
      ]
     },
     "execution_count": 18,
     "metadata": {},
     "output_type": "execute_result"
    }
   ],
   "source": [
    "x.head()"
   ]
  },
  {
   "cell_type": "code",
   "execution_count": 19,
   "metadata": {},
   "outputs": [],
   "source": [
    "wepick_data = {'data':x, \n",
    "          'deal_map':deal_map, 'deal_key':deal_key,\n",
    "          'user_map':user_map, 'user_key':user_key, \n",
    "          'ti1_map':ti1_map, 'ti1_key':ti1_key,\n",
    "          'ti2_map':ti2_map, 'ti2_key':ti2_key,\n",
    "          'ti1_list':ti1_list,\n",
    "          'ti2_list':ti2_list\n",
    "         }"
   ]
  },
  {
   "cell_type": "code",
   "execution_count": 20,
   "metadata": {},
   "outputs": [],
   "source": [
    "with open(data_dir + '/wepick_data.pkl', 'wb') as f:\n",
    "    pickle.dump(wepick_data, f, pickle.HIGHEST_PROTOCOL)\n",
    "    f.close()"
   ]
  },
  {
   "cell_type": "code",
   "execution_count": 26,
   "metadata": {
    "scrolled": true
   },
   "outputs": [],
   "source": [
    "train_set = []\n",
    "test_set = []\n",
    "for u, hist in x.groupby('u'):\n",
    "    pos = hist['v_x'].tolist()\n",
    "    neg = hist['v_y'].tolist()\n",
    "    for i in range(1, len(pos)):\n",
    "        hist = pos[:i]\n",
    "        if i != len(pos)-1:\n",
    "            train_set.append((u, hist, pos[i], 1))\n",
    "            train_set.append((u, hist, neg[i], 0))\n",
    "        else:\n",
    "            label = (pos[i], neg[i])\n",
    "            test_set.append((u, hist, label))"
   ]
  },
  {
   "cell_type": "code",
   "execution_count": 27,
   "metadata": {},
   "outputs": [
    {
     "name": "stdout",
     "output_type": "stream",
     "text": [
      "924410\n"
     ]
    }
   ],
   "source": [
    "print(len(train_set))"
   ]
  },
  {
   "cell_type": "code",
   "execution_count": 28,
   "metadata": {},
   "outputs": [
    {
     "name": "stdout",
     "output_type": "stream",
     "text": [
      "240012\n"
     ]
    }
   ],
   "source": [
    "print(len(test_set))\n"
   ]
  },
  {
   "cell_type": "code",
   "execution_count": null,
   "metadata": {},
   "outputs": [],
   "source": []
  }
 ],
 "metadata": {
  "kernelspec": {
   "display_name": "Python 3",
   "language": "python",
   "name": "python3"
  },
  "language_info": {
   "codemirror_mode": {
    "name": "ipython",
    "version": 3
   },
   "file_extension": ".py",
   "mimetype": "text/x-python",
   "name": "python",
   "nbconvert_exporter": "python",
   "pygments_lexer": "ipython3",
   "version": "3.6.2"
  }
 },
 "nbformat": 4,
 "nbformat_minor": 2
}
